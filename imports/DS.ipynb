{
  "nbformat": 4,
  "nbformat_minor": 0,
  "metadata": {
    "colab": {
      "name": "DS.ipynb",
      "version": "0.3.2",
      "provenance": [],
      "collapsed_sections": [],
      "include_colab_link": true
    },
    "kernelspec": {
      "name": "python3",
      "display_name": "Python 3"
    },
    "accelerator": "GPU"
  },
  "cells": [
    {
      "cell_type": "markdown",
      "metadata": {
        "id": "view-in-github",
        "colab_type": "text"
      },
      "source": [
        "<a href=\"https://colab.research.google.com/github/Data-Science-and-Data-Analytics-Courses/Notebook-Library/blob/master/imports/DS.ipynb\" target=\"_parent\"><img src=\"https://colab.research.google.com/assets/colab-badge.svg\" alt=\"Open In Colab\"/></a>"
      ]
    },
    {
      "cell_type": "markdown",
      "metadata": {
        "id": "-jKf749g6256",
        "colab_type": "text"
      },
      "source": [
        "# Data Science Imports\n",
        "\n",
        "---\n",
        "\n"
      ]
    },
    {
      "cell_type": "markdown",
      "metadata": {
        "id": "YJVSStQrct5W",
        "colab_type": "text"
      },
      "source": [
        "## Libraries"
      ]
    },
    {
      "cell_type": "code",
      "metadata": {
        "colab_type": "code",
        "id": "jjXkZ6nycsz1",
        "colab": {}
      },
      "source": [
        "import pandas as pd\n",
        "\n",
        "import sympy as sym\n",
        "from sympy.matrices import matrix_multiply_elementwise\n",
        "import numpy as np\n",
        "import numpy.ma as ma\n",
        "import numpy.testing as npt\n",
        "from scipy import linalg as la\n",
        "from scipy import stats\n",
        "\n",
        "from IPython.display import display\n",
        "from IPython.display import clear_output"
      ],
      "execution_count": 0,
      "outputs": []
    }
  ]
}