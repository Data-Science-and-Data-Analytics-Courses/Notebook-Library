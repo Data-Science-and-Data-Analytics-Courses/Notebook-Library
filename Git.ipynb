{
  "nbformat": 4,
  "nbformat_minor": 0,
  "metadata": {
    "colab": {
      "name": "Git.ipynb",
      "version": "0.3.2",
      "provenance": [],
      "collapsed_sections": [],
      "include_colab_link": true
    },
    "kernelspec": {
      "name": "python3",
      "display_name": "Python 3"
    },
    "accelerator": "GPU"
  },
  "cells": [
    {
      "cell_type": "markdown",
      "metadata": {
        "id": "view-in-github",
        "colab_type": "text"
      },
      "source": [
        "<a href=\"https://colab.research.google.com/github/Data-Science-and-Data-Analytics-Courses/MITx---Machine-Learning-with-Python-From-Linear-Models-to-Deep-Learning-Jun-11-2019/blob/master/Packages/Git.ipynb\" target=\"_parent\"><img src=\"https://colab.research.google.com/assets/colab-badge.svg\" alt=\"Open In Colab\"/></a>"
      ]
    },
    {
      "cell_type": "code",
      "metadata": {
        "id": "VQQWTqqbasyw",
        "colab_type": "code",
        "colab": {}
      },
      "source": [
        "import os\n",
        "from google.colab import drive, files\n",
        "from urllib.parse import urlsplit\n",
        "from pathlib import Path\n",
        "import json"
      ],
      "execution_count": 0,
      "outputs": []
    },
    {
      "cell_type": "markdown",
      "metadata": {
        "id": "CamM6fZA6xEf",
        "colab_type": "text"
      },
      "source": [
        "# Configure"
      ]
    },
    {
      "cell_type": "code",
      "metadata": {
        "id": "cFECR9zT6xOd",
        "colab_type": "code",
        "outputId": "c140ce28-1024-4f99-8165-65b1b7f183bf",
        "colab": {
          "base_uri": "https://localhost:8080/",
          "height": 82
        }
      },
      "source": [
        "def config(confile=\"\", options=\"--global\"):\n",
        "  \"\"\"\n",
        "  Configure Git\n",
        "  confile: path to .json configuration file, containing text: {\"email\": \"<email>\", \"name\": \"<display name>\", ...}\n",
        "  options: supported by git-config (https://git-scm.com/docs/git-config)\n",
        "  \"\"\"\n",
        "\n",
        "  # Configurations\n",
        "  confile = confile or input(\"Enter path to .json configuration file: \")\n",
        "  with open(confile) as f:\n",
        "    configs = json.load(f)\n",
        "\n",
        "  # Configure\n",
        "  !git config {options} user.email \"{configs['email']}\"\n",
        "  !git config {options} user.name \"{configs['name']}\"\n",
        "\n",
        "if __name__ == \"__main__\":\n",
        "  config()"
      ],
      "execution_count": 0,
      "outputs": [
        {
          "output_type": "stream",
          "text": [
            "Enter path to .json configuration file: /drive/My Drive/GitHub/config.json\n"
          ],
          "name": "stdout"
        }
      ]
    },
    {
      "cell_type": "markdown",
      "metadata": {
        "colab_type": "text",
        "id": "UdDQ4H0VmPpJ"
      },
      "source": [
        "# Clone"
      ]
    },
    {
      "cell_type": "code",
      "metadata": {
        "colab_type": "code",
        "id": "cXqTKogHXEr9",
        "outputId": "bc0be423-e508-4440-b8d0-e7865bc7e608",
        "colab": {
          "base_uri": "https://localhost:8080/",
          "height": 136
        }
      },
      "source": [
        "def clone(url, dest=\".\", name=\"\", authfile=\"\", options=\"--single-branch -b master\", reloc=True):\n",
        "  \"\"\"\n",
        "  Clone url into dest\n",
        "  name: if provided, rename repository\n",
        "  authfile: path to .json authentication file, containing text: {\"username\": \"<username>\", \"password\": \"<password>\"}, for private remote\n",
        "  options: supported by git-clone (https://git-scm.com/docs/git-clone)\n",
        "  reloc: if True, relocate to repository\n",
        "  \"\"\"\n",
        "\n",
        "  rurl = urlsplit(url)\n",
        "  dest = Path(dest).resolve()\n",
        "  repo = dest / (name or Path(rurl.path).name)\n",
        "\n",
        "  # Nested repositories not allowed\n",
        "  out = !git -C \"{dest}\" rev-parse\n",
        "  if not out: # inside repository\n",
        "    raise ValueError(\"Can't clone into existing repository\")\n",
        "  \n",
        "  # Construct authenticated remote\n",
        "  rauth = rurl\n",
        "  if authfile:\n",
        "    # Authentication information\n",
        "    with open(authfile) as f:\n",
        "      auth = json.load(f)\n",
        "    # Insert username and password\n",
        "    rauth = rurl._replace(netloc=f\"{auth['username']}:{auth['password']}@{rurl.hostname}\")\n",
        "\n",
        "  # Clone\n",
        "  !git clone {options} \"{rauth.geturl()}\" \"{repo}\"\n",
        "  \n",
        "  # Relocate\n",
        "  if reloc:\n",
        "    os.chdir(repo)\n",
        "\n",
        "  return repo\n",
        "\n",
        "if __name__ == \"__main__\":\n",
        "  url = \"https://github.com/Data-Science-and-Data-Analytics-Courses/UCSanDiegoX---Machine-Learning-Fundamentals-03-Jan-2019-audit\"\n",
        "  clone(url)"
      ],
      "execution_count": 3,
      "outputs": [
        {
          "output_type": "stream",
          "text": [
            "Cloning into '/content/UCSanDiegoX---Machine-Learning-Fundamentals-03-Jan-2019-audit'...\n",
            "remote: Enumerating objects: 104, done.\u001b[K\n",
            "remote: Counting objects:   0% (1/104)   \u001b[K\rremote: Counting objects:   1% (2/104)   \u001b[K\rremote: Counting objects:   2% (3/104)   \u001b[K\rremote: Counting objects:   3% (4/104)   \u001b[K\rremote: Counting objects:   4% (5/104)   \u001b[K\rremote: Counting objects:   5% (6/104)   \u001b[K\rremote: Counting objects:   6% (7/104)   \u001b[K\rremote: Counting objects:   7% (8/104)   \u001b[K\rremote: Counting objects:   8% (9/104)   \u001b[K\rremote: Counting objects:   9% (10/104)   \u001b[K\rremote: Counting objects:  10% (11/104)   \u001b[K\rremote: Counting objects:  11% (12/104)   \u001b[K\rremote: Counting objects:  12% (13/104)   \u001b[K\rremote: Counting objects:  13% (14/104)   \u001b[K\rremote: Counting objects:  14% (15/104)   \u001b[K\rremote: Counting objects:  15% (16/104)   \u001b[K\rremote: Counting objects:  16% (17/104)   \u001b[K\rremote: Counting objects:  17% (18/104)   \u001b[K\rremote: Counting objects:  18% (19/104)   \u001b[K\rremote: Counting objects:  19% (20/104)   \u001b[K\rremote: Counting objects:  20% (21/104)   \u001b[K\rremote: Counting objects:  21% (22/104)   \u001b[K\rremote: Counting objects:  22% (23/104)   \u001b[K\rremote: Counting objects:  23% (24/104)   \u001b[K\rremote: Counting objects:  24% (25/104)   \u001b[K\rremote: Counting objects:  25% (26/104)   \u001b[K\rremote: Counting objects:  26% (28/104)   \u001b[K\rremote: Counting objects:  27% (29/104)   \u001b[K\rremote: Counting objects:  28% (30/104)   \u001b[K\rremote: Counting objects:  29% (31/104)   \u001b[K\rremote: Counting objects:  30% (32/104)   \u001b[K\rremote: Counting objects:  31% (33/104)   \u001b[K\rremote: Counting objects:  32% (34/104)   \u001b[K\rremote: Counting objects:  33% (35/104)   \u001b[K\rremote: Counting objects:  34% (36/104)   \u001b[K\rremote: Counting objects:  35% (37/104)   \u001b[K\rremote: Counting objects:  36% (38/104)   \u001b[K\rremote: Counting objects:  37% (39/104)   \u001b[K\rremote: Counting objects:  38% (40/104)   \u001b[K\rremote: Counting objects:  39% (41/104)   \u001b[K\rremote: Counting objects:  40% (42/104)   \u001b[K\rremote: Counting objects:  41% (43/104)   \u001b[K\rremote: Counting objects:  42% (44/104)   \u001b[K\rremote: Counting objects:  43% (45/104)   \u001b[K\rremote: Counting objects:  44% (46/104)   \u001b[K\rremote: Counting objects:  45% (47/104)   \u001b[K\rremote: Counting objects:  46% (48/104)   \u001b[K\rremote: Counting objects:  47% (49/104)   \u001b[K\rremote: Counting objects:  48% (50/104)   \u001b[K\rremote: Counting objects:  49% (51/104)   \u001b[K\rremote: Counting objects:  50% (52/104)   \u001b[K\rremote: Counting objects:  51% (54/104)   \u001b[K\rremote: Counting objects:  52% (55/104)   \u001b[K\rremote: Counting objects:  53% (56/104)   \u001b[K\rremote: Counting objects:  54% (57/104)   \u001b[K\rremote: Counting objects:  55% (58/104)   \u001b[K\rremote: Counting objects:  56% (59/104)   \u001b[K\rremote: Counting objects:  57% (60/104)   \u001b[K\rremote: Counting objects:  58% (61/104)   \u001b[K\rremote: Counting objects:  59% (62/104)   \u001b[K\rremote: Counting objects:  60% (63/104)   \u001b[K\rremote: Counting objects:  61% (64/104)   \u001b[K\rremote: Counting objects:  62% (65/104)   \u001b[K\rremote: Counting objects:  63% (66/104)   \u001b[K\rremote: Counting objects:  64% (67/104)   \u001b[K\rremote: Counting objects:  65% (68/104)   \u001b[K\rremote: Counting objects:  66% (69/104)   \u001b[K\rremote: Counting objects:  67% (70/104)   \u001b[K\rremote: Counting objects:  68% (71/104)   \u001b[K\rremote: Counting objects:  69% (72/104)   \u001b[K\rremote: Counting objects:  70% (73/104)   \u001b[K\rremote: Counting objects:  71% (74/104)   \u001b[K\rremote: Counting objects:  72% (75/104)   \u001b[K\rremote: Counting objects:  73% (76/104)   \u001b[K\rremote: Counting objects:  74% (77/104)   \u001b[K\rremote: Counting objects:  75% (78/104)   \u001b[K\rremote: Counting objects:  76% (80/104)   \u001b[K\rremote: Counting objects:  77% (81/104)   \u001b[K\rremote: Counting objects:  78% (82/104)   \u001b[K\rremote: Counting objects:  79% (83/104)   \u001b[K\rremote: Counting objects:  80% (84/104)   \u001b[K\rremote: Counting objects:  81% (85/104)   \u001b[K\rremote: Counting objects:  82% (86/104)   \u001b[K\rremote: Counting objects:  83% (87/104)   \u001b[K\rremote: Counting objects:  84% (88/104)   \u001b[K\rremote: Counting objects:  85% (89/104)   \u001b[K\rremote: Counting objects:  86% (90/104)   \u001b[K\rremote: Counting objects:  87% (91/104)   \u001b[K\rremote: Counting objects:  88% (92/104)   \u001b[K\rremote: Counting objects:  89% (93/104)   \u001b[K\rremote: Counting objects:  90% (94/104)   \u001b[K\rremote: Counting objects:  91% (95/104)   \u001b[K\rremote: Counting objects:  92% (96/104)   \u001b[K\rremote: Counting objects:  93% (97/104)   \u001b[K\rremote: Counting objects:  94% (98/104)   \u001b[K\rremote: Counting objects:  95% (99/104)   \u001b[K\rremote: Counting objects:  96% (100/104)   \u001b[K\rremote: Counting objects:  97% (101/104)   \u001b[K\rremote: Counting objects:  98% (102/104)   \u001b[K\rremote: Counting objects:  99% (103/104)   \u001b[K\rremote: Counting objects: 100% (104/104)   \u001b[K\rremote: Counting objects: 100% (104/104), done.\u001b[K\n",
            "remote: Compressing objects: 100% (104/104), done.\u001b[K\n",
            "remote: Total 1286 (delta 50), reused 0 (delta 0), pack-reused 1182\u001b[K\n",
            "Receiving objects: 100% (1286/1286), 3.98 MiB | 12.35 MiB/s, done.\n",
            "Resolving deltas: 100% (656/656), done.\n"
          ],
          "name": "stdout"
        }
      ]
    },
    {
      "cell_type": "markdown",
      "metadata": {
        "id": "7ILM4JyuLzue",
        "colab_type": "text"
      },
      "source": [
        "# Push"
      ]
    },
    {
      "cell_type": "code",
      "metadata": {
        "id": "HbjnNchnK1js",
        "colab_type": "code",
        "outputId": "9c95eaef-a568-474f-fc6d-f0a560e8b2ab",
        "colab": {
          "base_uri": "https://localhost:8080/",
          "height": 1595
        }
      },
      "source": [
        "def push(url, branch=\"HEAD\", authfile=\"\"):\n",
        "  \"\"\"\n",
        "  Push branch to url\n",
        "  branch: defaults to current branch; if not provided, all branches\n",
        "  authfile: path to .json authentication file, containing text: {\"username\": \"<username>\", \"password\": \"<password>\"}\n",
        "  \"\"\"\n",
        "  \n",
        "  rurl = urlsplit(url)\n",
        "\n",
        "  # Authentication information\n",
        "  authfile = authfile or input(\"Enter path to .json authentication file: \")\n",
        "  with open(authfile) as f:\n",
        "    auth = json.load(f)\n",
        "\n",
        "  # Construct authenticated remote\n",
        "  rauth = rurl._replace(netloc=f\"{auth['username']}:{auth['password']}@{rurl.hostname}\") # add username and password\n",
        "  \n",
        "  # Push\n",
        "  if branch:\n",
        "    !git push \"{rauth.geturl()}\" \"{branch}\"\n",
        "  else:\n",
        "    !git push --all \"{rauth.geturl()}\"\n",
        "\n",
        "if __name__ == \"__main__\":\n",
        "  url = \"https://github.com/Data-Science-and-Data-Analytics-Courses/UCSanDiegoX---Machine-Learning-Fundamentals-03-Jan-2019-audit\"\n",
        "  push(url)"
      ],
      "execution_count": 0,
      "outputs": [
        {
          "output_type": "error",
          "ename": "KeyboardInterrupt",
          "evalue": "ignored",
          "traceback": [
            "\u001b[0;31m---------------------------------------------------------------------------\u001b[0m",
            "\u001b[0;31mKeyboardInterrupt\u001b[0m                         Traceback (most recent call last)",
            "\u001b[0;32m/usr/local/lib/python3.6/dist-packages/ipykernel/kernelbase.py\u001b[0m in \u001b[0;36m_input_request\u001b[0;34m(self, prompt, ident, parent, password)\u001b[0m\n\u001b[1;32m    729\u001b[0m             \u001b[0;32mtry\u001b[0m\u001b[0;34m:\u001b[0m\u001b[0;34m\u001b[0m\u001b[0;34m\u001b[0m\u001b[0m\n\u001b[0;32m--> 730\u001b[0;31m                 \u001b[0mident\u001b[0m\u001b[0;34m,\u001b[0m \u001b[0mreply\u001b[0m \u001b[0;34m=\u001b[0m \u001b[0mself\u001b[0m\u001b[0;34m.\u001b[0m\u001b[0msession\u001b[0m\u001b[0;34m.\u001b[0m\u001b[0mrecv\u001b[0m\u001b[0;34m(\u001b[0m\u001b[0mself\u001b[0m\u001b[0;34m.\u001b[0m\u001b[0mstdin_socket\u001b[0m\u001b[0;34m,\u001b[0m \u001b[0;36m0\u001b[0m\u001b[0;34m)\u001b[0m\u001b[0;34m\u001b[0m\u001b[0;34m\u001b[0m\u001b[0m\n\u001b[0m\u001b[1;32m    731\u001b[0m             \u001b[0;32mexcept\u001b[0m \u001b[0mException\u001b[0m\u001b[0;34m:\u001b[0m\u001b[0;34m\u001b[0m\u001b[0;34m\u001b[0m\u001b[0m\n",
            "\u001b[0;32m/usr/local/lib/python3.6/dist-packages/jupyter_client/session.py\u001b[0m in \u001b[0;36mrecv\u001b[0;34m(self, socket, mode, content, copy)\u001b[0m\n\u001b[1;32m    802\u001b[0m         \u001b[0;32mtry\u001b[0m\u001b[0;34m:\u001b[0m\u001b[0;34m\u001b[0m\u001b[0;34m\u001b[0m\u001b[0m\n\u001b[0;32m--> 803\u001b[0;31m             \u001b[0mmsg_list\u001b[0m \u001b[0;34m=\u001b[0m \u001b[0msocket\u001b[0m\u001b[0;34m.\u001b[0m\u001b[0mrecv_multipart\u001b[0m\u001b[0;34m(\u001b[0m\u001b[0mmode\u001b[0m\u001b[0;34m,\u001b[0m \u001b[0mcopy\u001b[0m\u001b[0;34m=\u001b[0m\u001b[0mcopy\u001b[0m\u001b[0;34m)\u001b[0m\u001b[0;34m\u001b[0m\u001b[0;34m\u001b[0m\u001b[0m\n\u001b[0m\u001b[1;32m    804\u001b[0m         \u001b[0;32mexcept\u001b[0m \u001b[0mzmq\u001b[0m\u001b[0;34m.\u001b[0m\u001b[0mZMQError\u001b[0m \u001b[0;32mas\u001b[0m \u001b[0me\u001b[0m\u001b[0;34m:\u001b[0m\u001b[0;34m\u001b[0m\u001b[0;34m\u001b[0m\u001b[0m\n",
            "\u001b[0;32m/usr/local/lib/python3.6/dist-packages/zmq/sugar/socket.py\u001b[0m in \u001b[0;36mrecv_multipart\u001b[0;34m(self, flags, copy, track)\u001b[0m\n\u001b[1;32m    465\u001b[0m         \"\"\"\n\u001b[0;32m--> 466\u001b[0;31m         \u001b[0mparts\u001b[0m \u001b[0;34m=\u001b[0m \u001b[0;34m[\u001b[0m\u001b[0mself\u001b[0m\u001b[0;34m.\u001b[0m\u001b[0mrecv\u001b[0m\u001b[0;34m(\u001b[0m\u001b[0mflags\u001b[0m\u001b[0;34m,\u001b[0m \u001b[0mcopy\u001b[0m\u001b[0;34m=\u001b[0m\u001b[0mcopy\u001b[0m\u001b[0;34m,\u001b[0m \u001b[0mtrack\u001b[0m\u001b[0;34m=\u001b[0m\u001b[0mtrack\u001b[0m\u001b[0;34m)\u001b[0m\u001b[0;34m]\u001b[0m\u001b[0;34m\u001b[0m\u001b[0;34m\u001b[0m\u001b[0m\n\u001b[0m\u001b[1;32m    467\u001b[0m         \u001b[0;31m# have first part already, only loop while more to receive\u001b[0m\u001b[0;34m\u001b[0m\u001b[0;34m\u001b[0m\u001b[0;34m\u001b[0m\u001b[0m\n",
            "\u001b[0;32mzmq/backend/cython/socket.pyx\u001b[0m in \u001b[0;36mzmq.backend.cython.socket.Socket.recv\u001b[0;34m()\u001b[0m\n",
            "\u001b[0;32mzmq/backend/cython/socket.pyx\u001b[0m in \u001b[0;36mzmq.backend.cython.socket.Socket.recv\u001b[0;34m()\u001b[0m\n",
            "\u001b[0;32mzmq/backend/cython/socket.pyx\u001b[0m in \u001b[0;36mzmq.backend.cython.socket._recv_copy\u001b[0;34m()\u001b[0m\n",
            "\u001b[0;32m/usr/local/lib/python3.6/dist-packages/zmq/backend/cython/checkrc.pxd\u001b[0m in \u001b[0;36mzmq.backend.cython.checkrc._check_rc\u001b[0;34m()\u001b[0m\n",
            "\u001b[0;31mKeyboardInterrupt\u001b[0m: ",
            "\nDuring handling of the above exception, another exception occurred:\n",
            "\u001b[0;31mKeyboardInterrupt\u001b[0m                         Traceback (most recent call last)",
            "\u001b[0;32m<ipython-input-8-b894ccafd300>\u001b[0m in \u001b[0;36m<module>\u001b[0;34m()\u001b[0m\n\u001b[1;32m     25\u001b[0m \u001b[0;32mif\u001b[0m \u001b[0m__name__\u001b[0m \u001b[0;34m==\u001b[0m \u001b[0;34m\"__main__\"\u001b[0m\u001b[0;34m:\u001b[0m\u001b[0;34m\u001b[0m\u001b[0;34m\u001b[0m\u001b[0m\n\u001b[1;32m     26\u001b[0m   \u001b[0murl\u001b[0m \u001b[0;34m=\u001b[0m \u001b[0;34m\"https://github.com/Data-Science-and-Data-Analytics-Courses/UCSanDiegoX---Machine-Learning-Fundamentals-03-Jan-2019-audit\"\u001b[0m\u001b[0;34m\u001b[0m\u001b[0;34m\u001b[0m\u001b[0m\n\u001b[0;32m---> 27\u001b[0;31m   \u001b[0mpush\u001b[0m\u001b[0;34m(\u001b[0m\u001b[0murl\u001b[0m\u001b[0;34m)\u001b[0m\u001b[0;34m\u001b[0m\u001b[0;34m\u001b[0m\u001b[0m\n\u001b[0m",
            "\u001b[0;32m<ipython-input-8-b894ccafd300>\u001b[0m in \u001b[0;36mpush\u001b[0;34m(url, branch, logfile)\u001b[0m\n\u001b[1;32m      9\u001b[0m \u001b[0;34m\u001b[0m\u001b[0m\n\u001b[1;32m     10\u001b[0m   \u001b[0;31m# Log-in information\u001b[0m\u001b[0;34m\u001b[0m\u001b[0;34m\u001b[0m\u001b[0;34m\u001b[0m\u001b[0m\n\u001b[0;32m---> 11\u001b[0;31m   \u001b[0mlogfile\u001b[0m \u001b[0;34m=\u001b[0m \u001b[0mlogfile\u001b[0m \u001b[0;32mor\u001b[0m \u001b[0minput\u001b[0m\u001b[0;34m(\u001b[0m\u001b[0;34m\"Enter path to .json log-in file: \"\u001b[0m\u001b[0;34m)\u001b[0m\u001b[0;34m\u001b[0m\u001b[0;34m\u001b[0m\u001b[0m\n\u001b[0m\u001b[1;32m     12\u001b[0m   \u001b[0;32mwith\u001b[0m \u001b[0mopen\u001b[0m\u001b[0;34m(\u001b[0m\u001b[0mlogfile\u001b[0m\u001b[0;34m)\u001b[0m \u001b[0;32mas\u001b[0m \u001b[0mf\u001b[0m\u001b[0;34m:\u001b[0m\u001b[0;34m\u001b[0m\u001b[0;34m\u001b[0m\u001b[0m\n\u001b[1;32m     13\u001b[0m     \u001b[0mlogin\u001b[0m \u001b[0;34m=\u001b[0m \u001b[0mjson\u001b[0m\u001b[0;34m.\u001b[0m\u001b[0mload\u001b[0m\u001b[0;34m(\u001b[0m\u001b[0mf\u001b[0m\u001b[0;34m)\u001b[0m\u001b[0;34m\u001b[0m\u001b[0;34m\u001b[0m\u001b[0m\n",
            "\u001b[0;32m/usr/local/lib/python3.6/dist-packages/ipykernel/kernelbase.py\u001b[0m in \u001b[0;36mraw_input\u001b[0;34m(self, prompt)\u001b[0m\n\u001b[1;32m    703\u001b[0m             \u001b[0mself\u001b[0m\u001b[0;34m.\u001b[0m\u001b[0m_parent_ident\u001b[0m\u001b[0;34m,\u001b[0m\u001b[0;34m\u001b[0m\u001b[0;34m\u001b[0m\u001b[0m\n\u001b[1;32m    704\u001b[0m             \u001b[0mself\u001b[0m\u001b[0;34m.\u001b[0m\u001b[0m_parent_header\u001b[0m\u001b[0;34m,\u001b[0m\u001b[0;34m\u001b[0m\u001b[0;34m\u001b[0m\u001b[0m\n\u001b[0;32m--> 705\u001b[0;31m             \u001b[0mpassword\u001b[0m\u001b[0;34m=\u001b[0m\u001b[0;32mFalse\u001b[0m\u001b[0;34m,\u001b[0m\u001b[0;34m\u001b[0m\u001b[0;34m\u001b[0m\u001b[0m\n\u001b[0m\u001b[1;32m    706\u001b[0m         )\n\u001b[1;32m    707\u001b[0m \u001b[0;34m\u001b[0m\u001b[0m\n",
            "\u001b[0;32m/usr/local/lib/python3.6/dist-packages/ipykernel/kernelbase.py\u001b[0m in \u001b[0;36m_input_request\u001b[0;34m(self, prompt, ident, parent, password)\u001b[0m\n\u001b[1;32m    733\u001b[0m             \u001b[0;32mexcept\u001b[0m \u001b[0mKeyboardInterrupt\u001b[0m\u001b[0;34m:\u001b[0m\u001b[0;34m\u001b[0m\u001b[0;34m\u001b[0m\u001b[0m\n\u001b[1;32m    734\u001b[0m                 \u001b[0;31m# re-raise KeyboardInterrupt, to truncate traceback\u001b[0m\u001b[0;34m\u001b[0m\u001b[0;34m\u001b[0m\u001b[0;34m\u001b[0m\u001b[0m\n\u001b[0;32m--> 735\u001b[0;31m                 \u001b[0;32mraise\u001b[0m \u001b[0mKeyboardInterrupt\u001b[0m\u001b[0;34m\u001b[0m\u001b[0;34m\u001b[0m\u001b[0m\n\u001b[0m\u001b[1;32m    736\u001b[0m             \u001b[0;32melse\u001b[0m\u001b[0;34m:\u001b[0m\u001b[0;34m\u001b[0m\u001b[0;34m\u001b[0m\u001b[0m\n\u001b[1;32m    737\u001b[0m                 \u001b[0;32mbreak\u001b[0m\u001b[0;34m\u001b[0m\u001b[0;34m\u001b[0m\u001b[0m\n",
            "\u001b[0;31mKeyboardInterrupt\u001b[0m: "
          ]
        }
      ]
    }
  ]
}